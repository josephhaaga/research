{
 "cells": [
  {
   "cell_type": "code",
   "execution_count": 2,
   "metadata": {
    "collapsed": false
   },
   "outputs": [],
   "source": [
    "import pandas as pd\n",
    "import numpy as np\n",
    "import matplotlib\n",
    "%matplotlib inline\n",
    "import matplotlib.pyplot as plt\n",
    "import os\n",
    "from mpl_toolkits.mplot3d import Axes3D\n",
    "from sklearn import naive_bayes as nb\n",
    "from sklearn.cross_validation import train_test_split"
   ]
  },
  {
   "cell_type": "code",
   "execution_count": 3,
   "metadata": {
    "collapsed": true
   },
   "outputs": [],
   "source": [
    "raw = pd.read_csv('MicrosoftGestureDataset-RC/data/P1_1_12A_p21.csv',sep=' ',header=None)\n",
    "raw=raw.drop(xrange(0,20),axis=0).drop(0,axis=1).drop((xrange(4,80,4)),axis=1).drop(80,axis=1)"
   ]
  },
  {
   "cell_type": "code",
   "execution_count": 4,
   "metadata": {
    "collapsed": false
   },
   "outputs": [
    {
     "data": {
      "text/plain": [
       "60"
      ]
     },
     "execution_count": 4,
     "metadata": {},
     "output_type": "execute_result"
    }
   ],
   "source": [
    "column_names=['hip_center_x','hip_center_y','hip_center_z',\n",
    "              'spine_x','spine_y','spine_z','shoulder_center_x',\n",
    "              'shoulder_center_y','shoulder_center_z','head_x',\n",
    "              'head_y','head_z','shoulder_left_x','shoulder_left_y',\n",
    "             'shoulder_left_z','elbow_left_x','elbow_left_y','elbow_left_z',\n",
    "             'wrist_left_x','wrist_left_y','wrist_left_z','hand_left_x',\n",
    "              'hand_left_y','wrist_left_z','shoulder_right_x','shoulder_right_y',\n",
    "             'shoulder_right_z','elbow_right_x','elbow_right_y','elbow_right_z',\n",
    "             'wrist_right_x','wrist_right_y','wrist_right_z','hand_right_x',\n",
    "             'hand_right_y','hand_right_z','hip_left_x','hip_left_y','hip_left_z',\n",
    "             'knee_left_x','knee_left_y','knee_left_z','ankle_left_x','ankle_left_y',\n",
    "             'ankle_left_z','foot_left_x','foot_left_y','foot_left_z','hip_right_x',\n",
    "             'hip_right_y','hip_right_z','knee_right_x','knee_right_y','knee_right_z',\n",
    "             'ankle_right_x','ankle_right_y','ankle_right_z','foot_right_x','foot_right_y',\n",
    "             'foot_right_z']\n",
    "\n",
    "raw.columns=column_names\n",
    "len(column_names)"
   ]
  },
  {
   "cell_type": "code",
   "execution_count": 5,
   "metadata": {
    "collapsed": false
   },
   "outputs": [
    {
     "data": {
      "text/plain": [
       "60"
      ]
     },
     "execution_count": 5,
     "metadata": {},
     "output_type": "execute_result"
    }
   ],
   "source": [
    "len(raw.columns)"
   ]
  },
  {
   "cell_type": "code",
   "execution_count": 6,
   "metadata": {
    "collapsed": false
   },
   "outputs": [],
   "source": [
    "# create DataFrame for each axis of each joint\n",
    "# A BAD IDEA\n",
    "# for i in column_names:\n",
    "#     print i\n",
    "#     exec('{} = pd.DataFrame([1,2,3,4])'.format(i))\n",
    "# A BETTER IDEA\n",
    "joints = {k: pd.DataFrame([]) for k in raw.columns }\n"
   ]
  },
  {
   "cell_type": "code",
   "execution_count": null,
   "metadata": {
    "collapsed": false
   },
   "outputs": [],
   "source": [
    "gestures = pd.DataFrame()\n",
    "labels = pd.Series()\n",
    "labels_array=[]\n",
    "sizes = [1];\n",
    "i=0\n",
    "while i<11:\n",
    "    for root, dirs, files in os.walk(\"MicrosoftGestureDataset-RC/data\"):\n",
    "        for file in files:\n",
    "            if file.endswith(\".csv\"):\n",
    "    #             temp = pd.read_csv(os.path.join(root,file),sep=' ',header=None)[:539]\n",
    "                temp = pd.read_csv(os.path.join(root,file),sep=' ',header=None).drop(xrange(0,20),axis=0).drop(0,axis=1).drop((xrange(4,80,4)),axis=1).drop(80,axis=1)\n",
    "                temp\n",
    "                temp.columns=column_names\n",
    "                for joint_name in temp.columns:\n",
    "                    joints[joint_name] = joints[joint_name].append(temp[joint_name])\n",
    "                labels_array.append(file[file.find('_',3)+1:file.rfind('_')].replace('A',''))\n",
    "                sizes.append(len(temp))\n",
    "                i=i+1;\n",
    "print str(i)+\" gesture files loaded\"\n",
    "\n",
    "gestures"
   ]
  },
  {
   "cell_type": "code",
   "execution_count": 8,
   "metadata": {
    "collapsed": false
   },
   "outputs": [],
   "source": [
    "classifiers = {k: nb.GaussianNB() for k in raw.columns }"
   ]
  },
  {
   "cell_type": "code",
   "execution_count": 9,
   "metadata": {
    "collapsed": false
   },
   "outputs": [],
   "source": [
    "# training/test set split\n",
    "training_sets = {}\n",
    "test_sets = {}\n",
    "for c in classifiers:\n",
    "    train, test = train_test_split(joints[c], test_size = 0.2);\n",
    "#     training_sets[c]=train.dropna(axis=1,how='any');\n",
    "#     test_sets[c]=test.dropna(axis=1,how='any');\n",
    "    training_sets[c]=train.dropna(axis=1,how='all');\n",
    "    test_sets[c]=test.dropna(axis=1,how='all');\n",
    "    "
   ]
  },
  {
   "cell_type": "code",
   "execution_count": 10,
   "metadata": {
    "collapsed": false,
    "scrolled": true
   },
   "outputs": [
    {
     "data": {
      "text/plain": [
       "(array([], dtype=int64), array([], dtype=int64))"
      ]
     },
     "execution_count": 10,
     "metadata": {},
     "output_type": "execute_result"
    }
   ],
   "source": [
    "# training_sets[c].dropna(axis=1,how='any')\n",
    "# pd.isnull(raw).any(1).nonzero\n",
    "np.where(raw[:].isnull())"
   ]
  },
  {
   "cell_type": "code",
   "execution_count": 11,
   "metadata": {
    "collapsed": false
   },
   "outputs": [
    {
     "ename": "TypeError",
     "evalue": "isnull() takes exactly 1 argument (0 given)",
     "output_type": "error",
     "traceback": [
      "\u001b[1;31m---------------------------------------------------------------------------\u001b[0m",
      "\u001b[1;31mTypeError\u001b[0m                                 Traceback (most recent call last)",
      "\u001b[1;32m<ipython-input-11-c192183296bf>\u001b[0m in \u001b[0;36m<module>\u001b[1;34m()\u001b[0m\n\u001b[0;32m      1\u001b[0m \u001b[1;32mfor\u001b[0m \u001b[0ma\u001b[0m \u001b[1;32min\u001b[0m \u001b[0mtraining_sets\u001b[0m\u001b[1;33m[\u001b[0m\u001b[1;34m'ankle_left_x'\u001b[0m\u001b[1;33m]\u001b[0m\u001b[1;33m:\u001b[0m\u001b[1;33m\u001b[0m\u001b[0m\n\u001b[0;32m      2\u001b[0m \u001b[1;31m#     print training_sets['ankle_left_x'][a].values\u001b[0m\u001b[1;33m\u001b[0m\u001b[1;33m\u001b[0m\u001b[0m\n\u001b[1;32m----> 3\u001b[1;33m     \u001b[0mpd\u001b[0m\u001b[1;33m.\u001b[0m\u001b[0misnull\u001b[0m\u001b[1;33m(\u001b[0m\u001b[1;33m)\u001b[0m\u001b[1;33m\u001b[0m\u001b[0m\n\u001b[0m",
      "\u001b[1;31mTypeError\u001b[0m: isnull() takes exactly 1 argument (0 given)"
     ]
    }
   ],
   "source": []
  },
  {
   "cell_type": "code",
   "execution_count": 14,
   "metadata": {
    "collapsed": false
   },
   "outputs": [],
   "source": [
    "for j in joints:\n",
    "    joints[j].to_pickle(j+'.pkl');"
   ]
  },
  {
   "cell_type": "code",
   "execution_count": 17,
   "metadata": {
    "collapsed": false,
    "scrolled": true
   },
   "outputs": [
    {
     "name": "stdout",
     "output_type": "stream",
     "text": [
      "Input contains NaN, infinity or a value too large for dtype('float64').\n",
      "Input contains NaN, infinity or a value too large for dtype('float64').\n",
      "Input contains NaN, infinity or a value too large for dtype('float64').\n",
      "Input contains NaN, infinity or a value too large for dtype('float64').\n",
      "Input contains NaN, infinity or a value too large for dtype('float64').\n",
      "Found arrays with inconsistent numbers of samples: [    594 1155433]\n",
      "Input contains NaN, infinity or a value too large for dtype('float64').\n",
      "Input contains NaN, infinity or a value too large for dtype('float64').\n",
      "Input contains NaN, infinity or a value too large for dtype('float64').\n",
      "Input contains NaN, infinity or a value too large for dtype('float64').\n",
      "Input contains NaN, infinity or a value too large for dtype('float64').\n",
      "Input contains NaN, infinity or a value too large for dtype('float64').\n",
      "Input contains NaN, infinity or a value too large for dtype('float64').\n",
      "Input contains NaN, infinity or a value too large for dtype('float64').\n",
      "Input contains NaN, infinity or a value too large for dtype('float64').\n",
      "Input contains NaN, infinity or a value too large for dtype('float64').\n",
      "Input contains NaN, infinity or a value too large for dtype('float64').\n",
      "Input contains NaN, infinity or a value too large for dtype('float64').\n",
      "Input contains NaN, infinity or a value too large for dtype('float64').\n",
      "Input contains NaN, infinity or a value too large for dtype('float64').\n",
      "Input contains NaN, infinity or a value too large for dtype('float64').\n",
      "Input contains NaN, infinity or a value too large for dtype('float64').\n",
      "Input contains NaN, infinity or a value too large for dtype('float64').\n",
      "Input contains NaN, infinity or a value too large for dtype('float64').\n",
      "Input contains NaN, infinity or a value too large for dtype('float64').\n",
      "Input contains NaN, infinity or a value too large for dtype('float64').\n",
      "Input contains NaN, infinity or a value too large for dtype('float64').\n",
      "Input contains NaN, infinity or a value too large for dtype('float64').\n",
      "Input contains NaN, infinity or a value too large for dtype('float64').\n",
      "Input contains NaN, infinity or a value too large for dtype('float64').\n",
      "Input contains NaN, infinity or a value too large for dtype('float64').\n",
      "Input contains NaN, infinity or a value too large for dtype('float64').\n",
      "Input contains NaN, infinity or a value too large for dtype('float64').\n",
      "Input contains NaN, infinity or a value too large for dtype('float64').\n",
      "Input contains NaN, infinity or a value too large for dtype('float64').\n",
      "Input contains NaN, infinity or a value too large for dtype('float64').\n",
      "Input contains NaN, infinity or a value too large for dtype('float64').\n",
      "Input contains NaN, infinity or a value too large for dtype('float64').\n",
      "Input contains NaN, infinity or a value too large for dtype('float64').\n",
      "Input contains NaN, infinity or a value too large for dtype('float64').\n",
      "Input contains NaN, infinity or a value too large for dtype('float64').\n",
      "Input contains NaN, infinity or a value too large for dtype('float64').\n",
      "Input contains NaN, infinity or a value too large for dtype('float64').\n",
      "Input contains NaN, infinity or a value too large for dtype('float64').\n",
      "Input contains NaN, infinity or a value too large for dtype('float64').\n",
      "Input contains NaN, infinity or a value too large for dtype('float64').\n",
      "Input contains NaN, infinity or a value too large for dtype('float64').\n",
      "Input contains NaN, infinity or a value too large for dtype('float64').\n",
      "Input contains NaN, infinity or a value too large for dtype('float64').\n",
      "Input contains NaN, infinity or a value too large for dtype('float64').\n",
      "Input contains NaN, infinity or a value too large for dtype('float64').\n",
      "Input contains NaN, infinity or a value too large for dtype('float64').\n",
      "Input contains NaN, infinity or a value too large for dtype('float64').\n",
      "Input contains NaN, infinity or a value too large for dtype('float64').\n",
      "Input contains NaN, infinity or a value too large for dtype('float64').\n",
      "Input contains NaN, infinity or a value too large for dtype('float64').\n",
      "Input contains NaN, infinity or a value too large for dtype('float64').\n",
      "Input contains NaN, infinity or a value too large for dtype('float64').\n",
      "Input contains NaN, infinity or a value too large for dtype('float64').\n"
     ]
    }
   ],
   "source": [
    "i = 0\n",
    "for c in classifiers:\n",
    "    try:\n",
    "        classifiers[c] = classifiers[c].fit(training_sets[c],labels_array)\n",
    "        print 'classifier #'+i+' trained'\n",
    "    except ValueError as e:\n",
    "        print(e)\n",
    "    i=i+1"
   ]
  }
 ],
 "metadata": {
  "kernelspec": {
   "display_name": "Python [Root]",
   "language": "python",
   "name": "Python [Root]"
  },
  "language_info": {
   "codemirror_mode": {
    "name": "ipython",
    "version": 2
   },
   "file_extension": ".py",
   "mimetype": "text/x-python",
   "name": "python",
   "nbconvert_exporter": "python",
   "pygments_lexer": "ipython2",
   "version": "2.7.12"
  }
 },
 "nbformat": 4,
 "nbformat_minor": 0
}
