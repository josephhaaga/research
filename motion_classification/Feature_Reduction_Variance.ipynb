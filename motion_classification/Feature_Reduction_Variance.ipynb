{
 "cells": [
  {
   "cell_type": "code",
   "execution_count": 84,
   "metadata": {
    "collapsed": false
   },
   "outputs": [],
   "source": [
    "import pandas as pd\n",
    "import numpy as np\n",
    "import matplotlib\n",
    "%matplotlib inline\n",
    "import matplotlib.pyplot as plt\n",
    "import os\n",
    "from mpl_toolkits.mplot3d import Axes3D\n",
    "from sklearn import naive_bayes as nb\n",
    "from sklearn.cross_validation import train_test_split"
   ]
  },
  {
   "cell_type": "code",
   "execution_count": 85,
   "metadata": {
    "collapsed": false
   },
   "outputs": [],
   "source": [
    "raw = pd.read_csv('MicrosoftGestureDataset-RC/data/P1_1_10_p06.csv',sep=' ',header=None)\n",
    "raw=raw.drop(xrange(0,20),axis=0).drop(0,axis=1).drop((xrange(4,80,4)),axis=1).drop(80,axis=1)"
   ]
  },
  {
   "cell_type": "code",
   "execution_count": 90,
   "metadata": {
    "collapsed": false,
    "scrolled": true
   },
   "outputs": [
    {
     "name": "stdout",
     "output_type": "stream",
     "text": [
      "101 gesture files loaded\n"
     ]
    }
   ],
   "source": [
    "gestures = pd.DataFrame()\n",
    "labels = pd.Series()\n",
    "labels_array=[]\n",
    "sizes = [1];\n",
    "i=0\n",
    "for root, dirs, files in os.walk(\"MicrosoftGestureDataset-RC/data\"):\n",
    "        for f in files:\n",
    "            if f.endswith(\".csv\"):\n",
    "                temp = pd.read_csv(os.path.join(root,f),sep=' ',header=None).drop(xrange(0,20),axis=0).drop(0,axis=1).drop((xrange(4,80,4)),axis=1).drop(80,axis=1)\n",
    "                gestures[i] = temp.var()\n",
    "                labels_array.append([f[f.find('_',3)+1:f.rfind('_')].replace('A',''),i])\n",
    "                sizes.append(len(temp))\n",
    "#                 print f[f.find('_',3)+1:f.rfind('_')].replace('A','');\n",
    "                i=i+1;\n",
    "                if i>100:\n",
    "                    break;\n",
    "print str(i)+\" gesture files loaded\"\n",
    "\n"
   ]
  },
  {
   "cell_type": "code",
   "execution_count": 91,
   "metadata": {
    "collapsed": false
   },
   "outputs": [],
   "source": [
    "labels_df = pd.DataFrame(labels_array)\n",
    "gestures=gestures.T"
   ]
  },
  {
   "cell_type": "code",
   "execution_count": 92,
   "metadata": {
    "collapsed": true
   },
   "outputs": [],
   "source": [
    "train, test = train_test_split(gestures, test_size = 0.2);"
   ]
  },
  {
   "cell_type": "code",
   "execution_count": 93,
   "metadata": {
    "collapsed": false
   },
   "outputs": [],
   "source": [
    "training_labels=labels_df[0][train.index.values]\n",
    "test_labels=labels_df[0][test.index.values]"
   ]
  },
  {
   "cell_type": "code",
   "execution_count": 95,
   "metadata": {
    "collapsed": false
   },
   "outputs": [],
   "source": [
    "classifier = nb.GaussianNB().fit(train,training_labels)"
   ]
  },
  {
   "cell_type": "code",
   "execution_count": 96,
   "metadata": {
    "collapsed": false
   },
   "outputs": [
    {
     "data": {
      "text/plain": [
       "0.23809523809523808"
      ]
     },
     "execution_count": 96,
     "metadata": {},
     "output_type": "execute_result"
    }
   ],
   "source": [
    "classifier.score(test,test_labels)"
   ]
  }
 ],
 "metadata": {
  "kernelspec": {
   "display_name": "Python [Root]",
   "language": "python",
   "name": "Python [Root]"
  },
  "language_info": {
   "codemirror_mode": {
    "name": "ipython",
    "version": 2
   },
   "file_extension": ".py",
   "mimetype": "text/x-python",
   "name": "python",
   "nbconvert_exporter": "python",
   "pygments_lexer": "ipython2",
   "version": "2.7.12"
  }
 },
 "nbformat": 4,
 "nbformat_minor": 0
}
