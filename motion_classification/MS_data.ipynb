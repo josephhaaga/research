{
 "cells": [
  {
   "cell_type": "code",
   "execution_count": 43,
   "metadata": {
    "collapsed": false
   },
   "outputs": [],
   "source": [
    "import pandas as pd\n",
    "from sklearn import naive_bayes as nb\n",
    "import os\n",
    "gnb = nb.GaussianNB()"
   ]
  },
  {
   "cell_type": "code",
   "execution_count": 44,
   "metadata": {
    "collapsed": false,
    "scrolled": true
   },
   "outputs": [],
   "source": [
    "# pd.read_csv?\n",
    "# raw = pd.read_csv('MicrosoftGestureDataset-RC/data/P1_1_10_p06.csv')\n",
    "raw2= pd.read_csv('MicrosoftGestureDataset-RC/data/P1_1_11_p06.csv',sep=' ',header=None)\n",
    "gestures = pd.DataFrame()\n",
    "i=0\n",
    "gestures.columns\n",
    "labels = pd.Series()\n",
    "# new = pd.DataFrame();\n",
    "# new[0] = raw2.mean()\n",
    "# new\n"
   ]
  },
  {
   "cell_type": "code",
   "execution_count": 45,
   "metadata": {
    "collapsed": false,
    "scrolled": true
   },
   "outputs": [
    {
     "name": "stdout",
     "output_type": "stream",
     "text": [
      "594\n"
     ]
    }
   ],
   "source": [
    "for root, dirs, files in os.walk(\"MicrosoftGestureDataset-RC/data\"):\n",
    "    for file in files:\n",
    "        if file.endswith(\".csv\"):\n",
    "            temp = pd.read_csv(os.path.join(root,file),sep=' ',header=None)\n",
    "#             print file\n",
    "            gestures[i] = temp.mean();\n",
    "#             print ' '+'added mean()'\n",
    "#             print ' '+'label added'\n",
    "#             gestures[i]['label']=file[file.find('_',3)+1:file.rfind('_')].replace('A',''); \n",
    "            labels=labels.append(pd.Series([file[file.find('_',3)+1:file.rfind('_')].replace('A','')],index=[i])); \n",
    "            i=i+1;\n",
    "print i"
   ]
  },
  {
   "cell_type": "code",
   "execution_count": 34,
   "metadata": {
    "collapsed": false
   },
   "outputs": [
    {
     "data": {
      "text/plain": [
       "0    9\n",
       "dtype: int64"
      ]
     },
     "execution_count": 34,
     "metadata": {},
     "output_type": "execute_result"
    }
   ],
   "source": [
    "bal = pd.Series()\n",
    "bal.append(pd.Series([9]))"
   ]
  },
  {
   "cell_type": "code",
   "execution_count": 46,
   "metadata": {
    "collapsed": false
   },
   "outputs": [
    {
     "data": {
      "text/plain": [
       "0       3\n",
       "1       6\n",
       "2       6\n",
       "3       1\n",
       "4       5\n",
       "5       5\n",
       "6      12\n",
       "7       8\n",
       "8       7\n",
       "9       1\n",
       "10      6\n",
       "11      9\n",
       "12      8\n",
       "13      3\n",
       "14      3\n",
       "15      7\n",
       "16      3\n",
       "17      1\n",
       "18      2\n",
       "19      3\n",
       "20      5\n",
       "21     11\n",
       "22      3\n",
       "23      7\n",
       "24      9\n",
       "25     10\n",
       "26      1\n",
       "27      3\n",
       "28      5\n",
       "29      5\n",
       "       ..\n",
       "564     5\n",
       "565    10\n",
       "566     8\n",
       "567     2\n",
       "568     2\n",
       "569    10\n",
       "570     4\n",
       "571     7\n",
       "572     9\n",
       "573     5\n",
       "574     1\n",
       "575    11\n",
       "576     2\n",
       "577     1\n",
       "578     3\n",
       "579     2\n",
       "580     1\n",
       "581     7\n",
       "582     3\n",
       "583     9\n",
       "584     2\n",
       "585     5\n",
       "586    11\n",
       "587     8\n",
       "588     7\n",
       "589    11\n",
       "590     8\n",
       "591     2\n",
       "592     6\n",
       "593     2\n",
       "dtype: object"
      ]
     },
     "execution_count": 46,
     "metadata": {},
     "output_type": "execute_result"
    }
   ],
   "source": [
    "labels"
   ]
  },
  {
   "cell_type": "code",
   "execution_count": 48,
   "metadata": {
    "collapsed": false
   },
   "outputs": [
    {
     "data": {
      "text/plain": [
       "594"
      ]
     },
     "execution_count": 48,
     "metadata": {},
     "output_type": "execute_result"
    }
   ],
   "source": [
    "len(gestures.T)"
   ]
  },
  {
   "cell_type": "code",
   "execution_count": null,
   "metadata": {
    "collapsed": true
   },
   "outputs": [],
   "source": [
    "gnb.fit()"
   ]
  }
 ],
 "metadata": {
  "kernelspec": {
   "display_name": "Python 2",
   "language": "python",
   "name": "python2"
  },
  "language_info": {
   "codemirror_mode": {
    "name": "ipython",
    "version": 2
   },
   "file_extension": ".py",
   "mimetype": "text/x-python",
   "name": "python",
   "nbconvert_exporter": "python",
   "pygments_lexer": "ipython2",
   "version": "2.7.11"
  }
 },
 "nbformat": 4,
 "nbformat_minor": 0
}
