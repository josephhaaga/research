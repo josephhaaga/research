{
 "cells": [
  {
   "cell_type": "code",
   "execution_count": 1,
   "metadata": {
    "collapsed": false
   },
   "outputs": [],
   "source": [
    "import pandas as pd\n",
    "import numpy as np\n",
    "from sklearn import naive_bayes as nb\n",
    "import os\n",
    "import matplotlib\n",
    "%matplotlib inline\n",
    "gnb = nb.GaussianNB()\n",
    "from sklearn.svm import SVC \n",
    "from sklearn.ensemble import RandomForestClassifier"
   ]
  },
  {
   "cell_type": "code",
   "execution_count": 2,
   "metadata": {
    "collapsed": false,
    "scrolled": true
   },
   "outputs": [
    {
     "name": "stdout",
     "output_type": "stream",
     "text": [
      "594 gesture files loaded\n"
     ]
    }
   ],
   "source": [
    "gestures = pd.DataFrame()\n",
    "labels = pd.Series()\n",
    "i=0\n",
    "for root, dirs, files in os.walk(\"MicrosoftGestureDataset-RC/data\"):\n",
    "    for file in files:\n",
    "        if file.endswith(\".csv\"):\n",
    "            temp = pd.read_csv(os.path.join(root,file),sep=' ',header=None)\n",
    "#             print file\n",
    "            gestures[i] = temp.mean();\n",
    "#             print ' '+'added mean()'\n",
    "#             print ' '+'label added'\n",
    "#             gestures[i]['label']=file[file.find('_',3)+1:file.rfind('_')].replace('A',''); \n",
    "            labels=labels.append(pd.Series([file[file.find('_',3)+1:file.rfind('_')].replace('A','')],index=[i])); \n",
    "            i=i+1;\n",
    "print str(i)+\" gesture files loaded\""
   ]
  },
  {
   "cell_type": "code",
   "execution_count": 18,
   "metadata": {
    "collapsed": false
   },
   "outputs": [
    {
     "data": {
      "text/plain": [
       "7     38\n",
       "3     38\n",
       "8     36\n",
       "1     36\n",
       "10    35\n",
       "6     34\n",
       "4     34\n",
       "12    33\n",
       "5     32\n",
       "9     31\n",
       "2     31\n",
       "11    22\n",
       "dtype: int64"
      ]
     },
     "execution_count": 18,
     "metadata": {},
     "output_type": "execute_result"
    }
   ],
   "source": [
    "# number of trials of each gesture type\n",
    "labels[:400].value_counts()"
   ]
  },
  {
   "cell_type": "code",
   "execution_count": 19,
   "metadata": {
    "collapsed": false
   },
   "outputs": [
    {
     "data": {
      "text/plain": [
       "8     50\n",
       "9     50\n",
       "7     50\n",
       "4     50\n",
       "2     50\n",
       "3     50\n",
       "1     50\n",
       "12    50\n",
       "6     49\n",
       "11    49\n",
       "5     48\n",
       "10    48\n",
       "dtype: int64"
      ]
     },
     "execution_count": 19,
     "metadata": {},
     "output_type": "execute_result"
    }
   ],
   "source": [
    "labels.value_counts()"
   ]
  },
  {
   "cell_type": "code",
   "execution_count": 4,
   "metadata": {
    "collapsed": false
   },
   "outputs": [
    {
     "data": {
      "text/plain": [
       "8     45\n",
       "2     45\n",
       "9     44\n",
       "4     44\n",
       "11    44\n",
       "12    43\n",
       "7     41\n",
       "6     40\n",
       "10    40\n",
       "5     37\n",
       "1     36\n",
       "3     35\n",
       "dtype: int64"
      ]
     },
     "execution_count": 4,
     "metadata": {},
     "output_type": "execute_result"
    }
   ],
   "source": [
    "svm_classifier=SVC()\n",
    "svm_classifier.fit(gestures.T[100:],labels[100:])\n",
    "svm_results = svm_classifier.predict(gestures.T[:99])\n",
    "labels[100:].value_counts()"
   ]
  },
  {
   "cell_type": "code",
   "execution_count": 5,
   "metadata": {
    "collapsed": false,
    "scrolled": true
   },
   "outputs": [
    {
     "name": "stdout",
     "output_type": "stream",
     "text": [
      "SVM Classifier results\n",
      "False    94\n",
      "True      5\n",
      "dtype: int64\n"
     ]
    }
   ],
   "source": [
    "svm_results = pd.Series(svm_results)\n",
    "print 'SVM Classifier results'\n",
    "svm_performance = (svm_results==labels[:99]).value_counts()\n",
    "print svm_performance\n",
    "# print (svm_performance[0])"
   ]
  },
  {
   "cell_type": "code",
   "execution_count": 6,
   "metadata": {
    "collapsed": true
   },
   "outputs": [],
   "source": [
    "gnb_classifier = gnb.fit(gestures.T[0:400],labels[0:400])"
   ]
  },
  {
   "cell_type": "code",
   "execution_count": 7,
   "metadata": {
    "collapsed": false
   },
   "outputs": [
    {
     "data": {
      "text/plain": [
       "2     152\n",
       "10     27\n",
       "4      14\n",
       "dtype: int64"
      ]
     },
     "execution_count": 7,
     "metadata": {},
     "output_type": "execute_result"
    }
   ],
   "source": [
    "results = gnb_classifier.predict(gestures.T[401:])\n",
    "pd.Series(results).value_counts()"
   ]
  },
  {
   "cell_type": "code",
   "execution_count": 8,
   "metadata": {
    "collapsed": false
   },
   "outputs": [
    {
     "data": {
      "text/plain": [
       "193"
      ]
     },
     "execution_count": 8,
     "metadata": {},
     "output_type": "execute_result"
    }
   ],
   "source": [
    "len(results)"
   ]
  },
  {
   "cell_type": "code",
   "execution_count": 9,
   "metadata": {
    "collapsed": false
   },
   "outputs": [
    {
     "data": {
      "text/plain": [
       "193"
      ]
     },
     "execution_count": 9,
     "metadata": {},
     "output_type": "execute_result"
    }
   ],
   "source": [
    "len(labels[401:])"
   ]
  },
  {
   "cell_type": "code",
   "execution_count": 10,
   "metadata": {
    "collapsed": false
   },
   "outputs": [
    {
     "name": "stdout",
     "output_type": "stream",
     "text": [
      "Gaussian Naive Bayes classifier results\n"
     ]
    },
    {
     "data": {
      "text/plain": [
       "False    175\n",
       "True      18\n",
       "dtype: int64"
      ]
     },
     "execution_count": 10,
     "metadata": {},
     "output_type": "execute_result"
    }
   ],
   "source": [
    "print 'Gaussian Naive Bayes classifier results'\n",
    "(results==labels[401:]).value_counts()"
   ]
  },
  {
   "cell_type": "code",
   "execution_count": 17,
   "metadata": {
    "collapsed": false
   },
   "outputs": [
    {
     "name": "stdout",
     "output_type": "stream",
     "text": [
      "Random Forest classifier results\n"
     ]
    },
    {
     "data": {
      "text/plain": [
       "True     100\n",
       "False     93\n",
       "dtype: int64"
      ]
     },
     "execution_count": 17,
     "metadata": {},
     "output_type": "execute_result"
    }
   ],
   "source": [
    "rfc = RandomForestClassifier().fit(gestures.T[:400],labels[:400])\n",
    "print 'Random Forest classifier results'\n",
    "(rfc.predict(gestures.T[401:])==labels[401:]).value_counts()\n"
   ]
  },
  {
   "cell_type": "code",
   "execution_count": null,
   "metadata": {
    "collapsed": true
   },
   "outputs": [],
   "source": []
  }
 ],
 "metadata": {
  "kernelspec": {
   "display_name": "Python 2",
   "language": "python",
   "name": "python2"
  },
  "language_info": {
   "codemirror_mode": {
    "name": "ipython",
    "version": 2
   },
   "file_extension": ".py",
   "mimetype": "text/x-python",
   "name": "python",
   "nbconvert_exporter": "python",
   "pygments_lexer": "ipython2",
   "version": "2.7.11"
  }
 },
 "nbformat": 4,
 "nbformat_minor": 0
}
