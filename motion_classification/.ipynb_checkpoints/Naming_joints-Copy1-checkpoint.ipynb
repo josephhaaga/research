{
 "cells": [
  {
   "cell_type": "code",
   "execution_count": 14,
   "metadata": {
    "collapsed": false
   },
   "outputs": [],
   "source": [
    "import pandas as pd\n",
    "import numpy as np\n",
    "import matplotlib\n",
    "%matplotlib inline\n",
    "import matplotlib.pyplot as plt\n",
    "import os\n",
    "from mpl_toolkits.mplot3d import Axes3D"
   ]
  },
  {
   "cell_type": "code",
   "execution_count": 3,
   "metadata": {
    "collapsed": true
   },
   "outputs": [],
   "source": [
    "raw = pd.read_csv('MicrosoftGestureDataset-RC/data/P1_1_12A_p21.csv',sep=' ',header=None)\n",
    "raw=raw.drop(xrange(0,20),axis=0).drop(0,axis=1).drop((xrange(4,80,4)),axis=1).drop(80,axis=1)"
   ]
  },
  {
   "cell_type": "code",
   "execution_count": 4,
   "metadata": {
    "collapsed": false
   },
   "outputs": [],
   "source": [
    "column_names=['hip_center_x','hip_center_y','hip_center_z',\n",
    "              'spine_x','spine_y','spine_z','shoulder_center_x',\n",
    "              'shoulder_center_y','shoulder_center_z','head_x',\n",
    "              'head_y','head_z','shoulder_left_x','shoulder_left_y',\n",
    "             'shoulder_left_z','elbow_left_x','elbow_left_y','elbow_left_z',\n",
    "             'wrist_left_x','wrist_left_y','wrist_left_z','hand_left_x',\n",
    "              'hand_left_y','wrist_left_z','shoulder_right_x','shoulder_right_y',\n",
    "             'shoulder_right_z','elbow_right_x','elbow_right_y','elbow_right_z',\n",
    "             'wrist_right_x','wrist_right_y','wrist_right_z','hand_right_x',\n",
    "             'hand_right_y','hand_right_z','hip_left_x','hip_left_y','hip_left_z',\n",
    "             'knee_left_x','knee_left_y','knee_left_z','ankle_left_x','ankle_left_y',\n",
    "             'ankle_left_z','foot_left_x','foot_left_y','foot_left_z','hip_right_x',\n",
    "             'hip_right_y','hip_right_z','knee_right_x','knee_right_y','knee_right_z',\n",
    "             'ankle_right_x','ankle_right_y','ankle_right_z','foot_right_x','foot_right_y',\n",
    "             'foot_right_z']\n",
    "\n",
    "raw.columns=column_names"
   ]
  },
  {
   "cell_type": "code",
   "execution_count": 12,
   "metadata": {
    "collapsed": false
   },
   "outputs": [],
   "source": [
    "# create DataFrame for each axis of each joint\n",
    "# A BAD IDEA\n",
    "# for i in column_names:\n",
    "#     print i\n",
    "#     exec('{} = pd.DataFrame([1,2,3,4])'.format(i))\n",
    "# A BETTER IDEA\n",
    "joints = {}\n",
    "for j in joints:\n",
    "    joints[j] = pd.DataFrame()\n",
    "    "
   ]
  },
  {
   "cell_type": "code",
   "execution_count": 18,
   "metadata": {
    "collapsed": false
   },
   "outputs": [
    {
     "name": "stdout",
     "output_type": "stream",
     "text": [
      "594 gesture files loaded\n"
     ]
    },
    {
     "data": {
      "text/html": [
       "<div>\n",
       "<table border=\"1\" class=\"dataframe\">\n",
       "  <thead>\n",
       "    <tr style=\"text-align: right;\">\n",
       "      <th></th>\n",
       "    </tr>\n",
       "  </thead>\n",
       "  <tbody>\n",
       "  </tbody>\n",
       "</table>\n",
       "</div>"
      ],
      "text/plain": [
       "Empty DataFrame\n",
       "Columns: []\n",
       "Index: []"
      ]
     },
     "execution_count": 18,
     "metadata": {},
     "output_type": "execute_result"
    }
   ],
   "source": [
    "gestures = pd.DataFrame()\n",
    "labels = pd.Series()\n",
    "labels_array=[]\n",
    "sizes = [1];\n",
    "i=0\n",
    "for root, dirs, files in os.walk(\"MicrosoftGestureDataset-RC/data\"):\n",
    "    for file in files:\n",
    "        if file.endswith(\".csv\"):\n",
    "#             temp = pd.read_csv(os.path.join(root,file),sep=' ',header=None)[:539]\n",
    "            temp = pd.read_csv(os.path.join(root,file),sep=' ',header=None).drop(xrange(0,20),axis=0).drop(0,axis=1).drop((xrange(4,80,4)),axis=1).drop(80)\n",
    "            temp\n",
    "            temp.columns=column_names\n",
    "            for joint_name in temp.columns:\n",
    "                joints[joint_name].append(temp[joint_name])\n",
    "            labels_array.append(file[file.find('_',3)+1:file.rfind('_')].replace('A',''))\n",
    "            sizes.append(len(temp))\n",
    "            i=i+1;\n",
    "print str(i)+\" gesture files loaded\"\n",
    "\n",
    "gestures"
   ]
  }
 ],
 "metadata": {
  "kernelspec": {
   "display_name": "Python [Root]",
   "language": "python",
   "name": "Python [Root]"
  },
  "language_info": {
   "codemirror_mode": {
    "name": "ipython",
    "version": 2
   },
   "file_extension": ".py",
   "mimetype": "text/x-python",
   "name": "python",
   "nbconvert_exporter": "python",
   "pygments_lexer": "ipython2",
   "version": "2.7.12"
  }
 },
 "nbformat": 4,
 "nbformat_minor": 0
}
