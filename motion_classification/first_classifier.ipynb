{
 "cells": [
  {
   "cell_type": "code",
   "execution_count": 62,
   "metadata": {
    "collapsed": true
   },
   "outputs": [],
   "source": [
    "import scipy.io as sio;\n",
    "import matplotlib as plt;\n",
    "%matplotlib inline\n",
    "import pandas as pd;\n",
    "from sklearn.naive_bayes import GaussianNB;\n",
    "import os;"
   ]
  },
  {
   "cell_type": "code",
   "execution_count": 63,
   "metadata": {
    "collapsed": false
   },
   "outputs": [
    {
     "name": "stdout",
     "output_type": "stream",
     "text": [
      "gestures/neilgestures6_7_16/kinectlog_2016_6_7_105132987_12.csv\n",
      "gestures/neilgestures6_7_16/kinectlog_2016_6_7_105004026_10.csv\n",
      "gestures/neilgestures6_7_16/kinectlog_2016_6_7_104682877_2.csv\n",
      "gestures/neilgestures6_7_16/kinectlog_2016_6_7_105051109_13.csv\n",
      "gestures/neilgestures6_7_16/kinectlog_2016_6_7_104733876_3.csv\n",
      "gestures/neilgestures6_7_16/kinectlog_2016_6_7_104958047_9.csv\n",
      "gestures/neilgestures6_7_16/kinectlog_2016_6_7_105090043_11.csv\n",
      "gestures/neilgestures6_7_16/kinectlog_2016_6_7_104635665_1.csv\n",
      "gestures/neilgestures6_7_16/kinectlog_2016_6_7_104913248_8.csv\n",
      "gestures/neilgestures6_7_16/kinectlog_2016_6_7_104443749_6.csv\n",
      "gestures/neilgestures6_7_16/kinectlog_2016_6_7_104810587_4.csv\n",
      "gestures/neilgestures6_7_16/kinectlog_2016_6_7_104850466_5.csv\n",
      "gestures/samgestures/kinectlog_2016_6_1_446227268_3.csv\n",
      "gestures/samgestures/kinectlog_2016_6_1_446417743_5.csv\n",
      "gestures/samgestures/kinectlog_2016_6_1_445918454_1.csv\n",
      "gestures/samgestures/kinectlog_2016_6_1_447006805_11.csv\n",
      "gestures/samgestures/kinectlog_2016_6_1_446509832_6.csv\n",
      "gestures/samgestures/kinectlog_2016_6_1_446626211_8.csv\n",
      "gestures/samgestures/kinectlog_2016_6_1_447120188_12.csv\n",
      "gestures/samgestures/kinectlog_2016_6_1_446336940_4.csv\n",
      "gestures/samgestures/kinectlog_2016_6_1_446708115_9.csv\n",
      "gestures/samgestures/kinectlog_2016_6_1_446003602_2.csv\n",
      "gestures/Conorgestures/kinectlog_2016_6_2_516668377_13.csv\n",
      "gestures/Conorgestures/kinectlog_2016_6_2_516327570_8.csv\n",
      "gestures/Conorgestures/kinectlog_2016_6_2_515919828_2.csv\n",
      "gestures/Conorgestures/kinectlog_2016_6_2_516147456_5.csv\n",
      "gestures/Conorgestures/kinectlog_2016_6_2_516245944_6.csv\n",
      "gestures/Conorgestures/kinectlog_2016_6_2_515969221_3.csv\n",
      "gestures/Conorgestures/kinectlog_2016_6_2_516079646_4.csv\n",
      "gestures/Conorgestures/kinectlog_2016_6_2_516520831_10.csv\n",
      "gestures/Conorgestures/kinectlog_2016_6_2_516807423_11.csv\n",
      "gestures/Conorgestures/kinectlog_2016_6_2_515849232_1.csv\n",
      "gestures/Conorgestures/kinectlog_2016_6_2_516420054_9.csv\n",
      "gestures/Conorgestures/kinectlog_2016_6_2_516933055_12.csv\n",
      "gestures/Joegestures/kinectlog_2016_6_2_529747417_1.csv\n"
     ]
    }
   ],
   "source": [
    "# Batch import all gesture files\n",
    "import os\n",
    "for root, dirs, files in os.walk(\"gestures\"):\n",
    "    for file in files:\n",
    "        if file.endswith(\".csv\"):\n",
    "             print(os.path.join(root, file));\n",
    "#              print file;\n",
    "# TO DO - organize into (flat) datasets and labels"
   ]
  },
  {
   "cell_type": "code",
   "execution_count": null,
   "metadata": {
    "collapsed": false
   },
   "outputs": [],
   "source": []
  },
  {
   "cell_type": "code",
   "execution_count": 64,
   "metadata": {
    "collapsed": true
   },
   "outputs": [],
   "source": [
    "gnb = GaussianNB()"
   ]
  },
  {
   "cell_type": "code",
   "execution_count": 65,
   "metadata": {
    "collapsed": false
   },
   "outputs": [
    {
     "ename": "TypeError",
     "evalue": "fit() takes at least 3 arguments (1 given)",
     "output_type": "error",
     "traceback": [
      "\u001b[1;31m---------------------------------------------------------------------------\u001b[0m",
      "\u001b[1;31mTypeError\u001b[0m                                 Traceback (most recent call last)",
      "\u001b[1;32m<ipython-input-65-652cdfa2aa6a>\u001b[0m in \u001b[0;36m<module>\u001b[1;34m()\u001b[0m\n\u001b[1;32m----> 1\u001b[1;33m \u001b[0my_pred\u001b[0m \u001b[1;33m=\u001b[0m \u001b[0mgnb\u001b[0m\u001b[1;33m.\u001b[0m\u001b[0mfit\u001b[0m\u001b[1;33m(\u001b[0m\u001b[1;33m)\u001b[0m\u001b[1;33m\u001b[0m\u001b[0m\n\u001b[0m",
      "\u001b[1;31mTypeError\u001b[0m: fit() takes at least 3 arguments (1 given)"
     ]
    }
   ],
   "source": [
    "y_pred = gnb.fit()"
   ]
  }
 ],
 "metadata": {
  "kernelspec": {
   "display_name": "Python 2",
   "language": "python",
   "name": "python2"
  },
  "language_info": {
   "codemirror_mode": {
    "name": "ipython",
    "version": 2
   },
   "file_extension": ".py",
   "mimetype": "text/x-python",
   "name": "python",
   "nbconvert_exporter": "python",
   "pygments_lexer": "ipython2",
   "version": "2.7.11"
  }
 },
 "nbformat": 4,
 "nbformat_minor": 0
}
